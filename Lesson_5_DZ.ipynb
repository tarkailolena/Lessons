{
 "cells": [
  {
   "cell_type": "code",
   "execution_count": 1,
   "id": "1fd341e1-3789-4186-8adc-ee2b971f87c4",
   "metadata": {},
   "outputs": [
    {
     "name": "stdout",
     "output_type": "stream",
     "text": [
      "['Подготовка', 'к', '6', 'занятию']\n"
     ]
    }
   ],
   "source": [
    "# №1 Написать функцию для преобразование ее в список слов и разделение\n",
    "string_1 = \"Подготовка к 6 занятию\"\n",
    "list_words = string_1.split()\n",
    "print(list_words)"
   ]
  },
  {
   "cell_type": "code",
   "execution_count": 3,
   "id": "7181b22f-67e0-4328-99cc-9bc98c45736e",
   "metadata": {},
   "outputs": [
    {
     "name": "stdin",
     "output_type": "stream",
     "text": [
      "Введите количество часов: 89\n"
     ]
    },
    {
     "name": "stdout",
     "output_type": "stream",
     "text": [
      "44.5\n"
     ]
    }
   ],
   "source": [
    "# №2 Натан выпивает 0,5 литров в час. Дано время в часах, необходимо посчитать, сколько воды за это время выпьет натан с округлением до наименьшего\n",
    "import math\n",
    "time = float(input(\"Введите количество часов:\"))\n",
    "litres = math.floor(time)*0.5\n",
    "print(litres)"
   ]
  },
  {
   "cell_type": "code",
   "execution_count": 4,
   "id": "24901408-55a7-44d5-b36b-0312f6305ecb",
   "metadata": {},
   "outputs": [
    {
     "name": "stdout",
     "output_type": "stream",
     "text": [
      "[5, 4, 3, 2, 1]\n"
     ]
    }
   ],
   "source": [
    "# №3 Написать список, который возвращает список целых чисел от n до 1, где n >0\n",
    "def counts(n):\n",
    "    if n == 1:\n",
    "        return [1]\n",
    "    return [n] + counts(n-1)\n",
    "print(counts(5))"
   ]
  },
  {
   "cell_type": "code",
   "execution_count": 5,
   "id": "357c2038-60fd-4fc6-af1f-3d7690817fdf",
   "metadata": {},
   "outputs": [
    {
     "name": "stdin",
     "output_type": "stream",
     "text": [
      "Введите год: 1589\n"
     ]
    },
    {
     "name": "stdout",
     "output_type": "stream",
     "text": [
      "16\n"
     ]
    }
   ],
   "source": [
    "# №4 Учитывая год, верните столетие, в котором он находится\n",
    "import math\n",
    "year = int(input(\"Введите год:\"))\n",
    "century = year // 100 + 1\n",
    "print(century)"
   ]
  },
  {
   "cell_type": "code",
   "execution_count": 6,
   "id": "e8019d96-cef7-41bd-ba89-88e1b84085ed",
   "metadata": {},
   "outputs": [
    {
     "name": "stdout",
     "output_type": "stream",
     "text": [
      "[0, 9, 8, 7, 6, 5, 4]\n"
     ]
    }
   ],
   "source": [
    "# №5 Вернуть случайное неотрицательное число в массив в обратном порядке\n",
    "def list_number(num, r=[]):\n",
    "  if num == 0: \n",
    "    return r\n",
    "  else:\n",
    "      r.append(num % 10) \n",
    "  return list_number(num // 10, r)\n",
    "\n",
    "num = 4567890\n",
    "result = list_number(num)\n",
    "print(result)\n"
   ]
  },
  {
   "cell_type": "code",
   "execution_count": null,
   "id": "7c378af2-dcdc-4150-8c62-daf54713711d",
   "metadata": {},
   "outputs": [],
   "source": []
  }
 ],
 "metadata": {
  "kernelspec": {
   "display_name": "Python 3 (ipykernel)",
   "language": "python",
   "name": "python3"
  },
  "language_info": {
   "codemirror_mode": {
    "name": "ipython",
    "version": 3
   },
   "file_extension": ".py",
   "mimetype": "text/x-python",
   "name": "python",
   "nbconvert_exporter": "python",
   "pygments_lexer": "ipython3",
   "version": "3.13.5"
  }
 },
 "nbformat": 4,
 "nbformat_minor": 5
}
