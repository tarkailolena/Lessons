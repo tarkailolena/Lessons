{
  "nbformat": 4,
  "nbformat_minor": 0,
  "metadata": {
    "colab": {
      "provenance": [],
      "authorship_tag": "ABX9TyOypO7/JwW9GESUz9x1jmMI",
      "include_colab_link": true
    },
    "kernelspec": {
      "name": "python3",
      "display_name": "Python 3"
    },
    "language_info": {
      "name": "python"
    }
  },
  "cells": [
    {
      "cell_type": "markdown",
      "metadata": {
        "id": "view-in-github",
        "colab_type": "text"
      },
      "source": [
        "<a href=\"https://colab.research.google.com/github/tarkailolena/Lena/blob/main/Lesson3_DZ_%22Untitled1_ipynb%22.ipynb\" target=\"_parent\"><img src=\"https://colab.research.google.com/assets/colab-badge.svg\" alt=\"Open In Colab\"/></a>"
      ]
    },
    {
      "cell_type": "code",
      "execution_count": null,
      "metadata": {
        "colab": {
          "base_uri": "https://localhost:8080/"
        },
        "id": "Bl9-puwAOJOf",
        "outputId": "c3f79939-0730-40fd-9e70-8bcdbe43b582"
      },
      "outputs": [
        {
          "output_type": "stream",
          "name": "stdout",
          "text": [
            "(ax)**2 + bx + c = 0:\n",
            "8.0\n",
            "10.0 2.0\n"
          ]
        }
      ],
      "source": [
        "# №1(1) Решение линейных уравнений\n",
        "#y^2 - 12y + 20 = 0\n",
        " #ay^2 + by + c =0\n",
        "\n",
        "print(\"(ax)**2 + bx + c = 0:\")\n",
        "a:int = 1\n",
        "b:int = -12\n",
        "c:int = 20\n",
        "d = b**2 - 4*a*c\n",
        "d_2 = (d**0.5) #корен из D\n",
        "print(d_2)\n",
        "if d == 0:\n",
        " x = (-b/(2*a))\n",
        " print(x)\n",
        "elif d > 0:\n",
        "  x_1 = ((-b + d_2) / (2 * a))\n",
        "  x_2 = ((-b - d_2) / (2 * a))\n",
        "  print(x_1, x_2)"
      ]
    },
    {
      "cell_type": "code",
      "source": [
        "#z^2 + 17z +72 = 0\n",
        "print(\"(ax)**2 + bx + c = 0:\")\n",
        "a:int = 1\n",
        "b:int = 17\n",
        "c:int = 72\n",
        "d = b**2 - 4*a*c\n",
        "d_2 = (d**0.5) #корен из D\n",
        "print(d_2)\n",
        "if d == 0:\n",
        " x = (-b/(2*a))\n",
        " print(x)\n",
        "elif d > 0:\n",
        "  x_1 = ((-b + d_2) / (2 * a))\n",
        "  x_2 = ((-b - d_2) / (2 * a))\n",
        "  print(x_1, x_2)"
      ],
      "metadata": {
        "colab": {
          "base_uri": "https://localhost:8080/"
        },
        "id": "q_grtpCzIfQh",
        "outputId": "822bbc3d-ad8a-4b53-993d-887598efc9d1"
      },
      "execution_count": null,
      "outputs": [
        {
          "output_type": "stream",
          "name": "stdout",
          "text": [
            "(ax)**2 + bx + c = 0:\n",
            "1.0\n",
            "-8.0 -9.0\n"
          ]
        }
      ]
    },
    {
      "cell_type": "code",
      "source": [
        "#x^2 - 7x - 44 = 0\n",
        "print(\"(ax)**2 + bx + c = 0:\")\n",
        "a:int = 1\n",
        "b:int = -7\n",
        "c:int = -44\n",
        "d = b**2 - 4*a*c\n",
        "d_2 = (d**0.5) #корен из D\n",
        "print(d_2)\n",
        "if d == 0:\n",
        " x = (-b/(2*a))\n",
        " print(x)\n",
        "elif d > 0:\n",
        "  x_1 = ((-b + d_2) / (2 * a))\n",
        "  x_2 = ((-b - d_2) / (2 * a))\n",
        "  print(x_1, x_2)"
      ],
      "metadata": {
        "colab": {
          "base_uri": "https://localhost:8080/"
        },
        "id": "upC3hjVmJeZE",
        "outputId": "089b8933-0acb-441e-b539-0eaba29971e2"
      },
      "execution_count": null,
      "outputs": [
        {
          "output_type": "stream",
          "name": "stdout",
          "text": [
            "(ax)**2 + bx + c = 0:\n",
            "15.0\n",
            "11.0 -4.0\n"
          ]
        }
      ]
    },
    {
      "cell_type": "code",
      "source": [
        "#y^2 + 9y + 8 = 0\n",
        "print(\"(ax)**2 + bx + c = 0:\")\n",
        "a:int = 1\n",
        "b:int = 9\n",
        "c:int = 8\n",
        "d = b**2 - 4*a*c\n",
        "d_2 = (d**0.5) #корен из D\n",
        "print(d_2)\n",
        "if d == 0:\n",
        " x = (-b/(2*a))\n",
        " print(x)\n",
        "elif d > 0:\n",
        "  x_1 = ((-b + d_2) / (2 * a))\n",
        "  x_2 = ((-b - d_2) / (2 * a))\n",
        "  print(x_1, x_2)"
      ],
      "metadata": {
        "colab": {
          "base_uri": "https://localhost:8080/"
        },
        "id": "_hbbTCGfJ8o7",
        "outputId": "605458a8-712e-42f4-ebd5-289068b9d3b6"
      },
      "execution_count": null,
      "outputs": [
        {
          "output_type": "stream",
          "name": "stdout",
          "text": [
            "(ax)**2 + bx + c = 0:\n",
            "7.0\n",
            "-1.0 -8.0\n"
          ]
        }
      ]
    },
    {
      "cell_type": "code",
      "source": [
        "#b^2 - 2y - 63 = 0\n",
        "print(\"(ax)**2 + bx + c = 0:\")\n",
        "a:int = 1\n",
        "b:int = -2\n",
        "c:int = -63\n",
        "d = b**2 - 4*a*c\n",
        "d_2 = (d**0.5) #корен из D\n",
        "print(d_2)\n",
        "if d == 0:\n",
        " x = (-b/(2*a))\n",
        " print(x)\n",
        "elif d > 0:\n",
        "  x_1 = ((-b + d_2) / (2 * a))\n",
        "  x_2 = ((-b - d_2) / (2 * a))\n",
        "  print(x_1, x_2)"
      ],
      "metadata": {
        "colab": {
          "base_uri": "https://localhost:8080/"
        },
        "id": "Q8QJtx74KOBO",
        "outputId": "d5f4d443-031f-44c0-8c8e-0e1a118b5ea1"
      },
      "execution_count": null,
      "outputs": [
        {
          "output_type": "stream",
          "name": "stdout",
          "text": [
            "(ax)**2 + bx + c = 0:\n",
            "16.0\n",
            "9.0 -7.0\n"
          ]
        }
      ]
    },
    {
      "cell_type": "code",
      "execution_count": null,
      "metadata": {
        "id": "euA_w1U8Q16C",
        "colab": {
          "base_uri": "https://localhost:8080/"
        },
        "outputId": "6f896c28-aa15-4ef1-e76d-2fade2a85f81"
      },
      "outputs": [
        {
          "output_type": "stream",
          "name": "stdout",
          "text": [
            "6.0\n",
            "9.0 3.0\n",
            "3.0 -3.0 1.7320508075688772 -1.7320508075688772\n"
          ]
        }
      ],
      "source": [
        "\n",
        "# №1(2) Решение уравнения (x^2 - 8)**2 + 4(x^2 - 8) - 5 = 0\n",
        "# x^2=u\n",
        "# u^2 - 12u + 27 = 0\n",
        "\n",
        "a_2:int = 1\n",
        "b_2:int = -12\n",
        "c_2:int = 27\n",
        "\n",
        "d_2 = b_2**2 - 4*a_2*c_2\n",
        "d_3 = (d_2**0.5)\n",
        "print (d_3)\n",
        "if d_3 == 0:\n",
        " x_2 = (-b_2/(2*a_2))\n",
        " print(x_2)\n",
        "elif d > 0:\n",
        "  x1_2 = ((-b_2 + d_3)/ (2 * a_2))\n",
        "  x2_2 = ((-b_2 - d_3)/ (2 * a_2))\n",
        "  print (x1_2, x2_2)\n",
        "\n",
        "u_1 = (x1_2)**0.5\n",
        "u_2 = (x2_2)**0.5\n",
        "print (u_1, -u_1, u_2, -u_2)\n"
      ]
    },
    {
      "cell_type": "code",
      "source": [
        "# №2 Представить произвольный список в обратном порядке\n",
        "l_1:list = [1, 2, 4, 6, 3, 5]\n",
        "l_1.reverse()\n",
        "l_1"
      ],
      "metadata": {
        "colab": {
          "base_uri": "https://localhost:8080/"
        },
        "id": "by4USyzFAfMu",
        "outputId": "ff7518be-7ecd-4ab3-d6d8-b51900693ab3"
      },
      "execution_count": null,
      "outputs": [
        {
          "output_type": "execute_result",
          "data": {
            "text/plain": [
              "[5, 3, 6, 4, 2, 1]"
            ]
          },
          "metadata": {},
          "execution_count": 51
        }
      ]
    },
    {
      "cell_type": "code",
      "source": [
        "#Напишите функцию change(lst), которая принимает список и меняет местами его первый и последний элемент. В исходном списке минимум 2 элемента.#lst = [1, 2, 3, 4, 5] def change(lst): логика выполнения #change(lst)\n",
        "\n",
        "lst = [1, 2, 3, 4, 5]\n",
        "a = lst.pop(4)   # lst.pop(i) - удаляет последний элемент списка, lst.clear() удаляет весь список\n",
        "b = lst.pop(0)\n",
        "lst.append(b) # + к списку последний элемент\n",
        "lst.insert(0,a) # + к списку первый элемент\n",
        "lst\n"
      ],
      "metadata": {
        "colab": {
          "base_uri": "https://localhost:8080/"
        },
        "id": "r2uLtXr5899y",
        "outputId": "11f272ea-8b4f-4925-caaa-69a888459c04"
      },
      "execution_count": null,
      "outputs": [
        {
          "output_type": "execute_result",
          "data": {
            "text/plain": [
              "[5, 2, 3, 4, 1]"
            ]
          },
          "metadata": {},
          "execution_count": 53
        }
      ]
    },
    {
      "cell_type": "code",
      "source": [
        "#Николай задумался о поиске «бесполезного» числа на основании списка. Суть оlного в следующем: он берет произвольный список чисел, находит самое большое из них, а затем делит его на длину списка. Студент пока не придумал,\n",
        "#где может пригодиться подобное значение, но ищет у вас помощи в реализации такой функции useless(s).\n",
        "ul: list = [2, 7, 90, 8, 70]\n",
        "b = max(ul)\n",
        "c = len(ul)\n",
        "d = max(ul)/len(ul)\n",
        "d"
      ],
      "metadata": {
        "colab": {
          "base_uri": "https://localhost:8080/"
        },
        "id": "7wjE1Llw-8k8",
        "outputId": "18730a2f-22c4-4751-d4e1-5d3bf9260d82"
      },
      "execution_count": null,
      "outputs": [
        {
          "output_type": "execute_result",
          "data": {
            "text/plain": [
              "18.0"
            ]
          },
          "metadata": {},
          "execution_count": 55
        }
      ]
    },
    {
      "cell_type": "code",
      "source": [
        "#На входе имеем список строк разной длины. Необходимо написать функцию all_eq(lst), которая вернет новый список из строк одинаковой длины. Длину итоговой строки определяем исходя из самой большой из них. Если конкретная\n",
        "#строка короче самой длинной, дополнить ее нижними подчеркиваниями с правого края до требуемого количества символов. Расположение элементов начального списка не менять.\n",
        "#['крот', 'белка', 'выхухоль'] ->\n",
        "#['крот____', 'белка___', 'выхухоль']\n",
        "\n",
        "s_list:list = ['крот', 'белка', 'выхухоль']\n",
        "a = print(s_list[0])\n",
        "b = print(s_list[1])\n",
        "c = print(s_list[2])\n",
        "len(max(s_list))\n",
        "\n"
      ],
      "metadata": {
        "colab": {
          "base_uri": "https://localhost:8080/"
        },
        "id": "j7P6L_hHAhPI",
        "outputId": "e9aece71-1d8c-4f0d-932c-b6acd3260720"
      },
      "execution_count": null,
      "outputs": [
        {
          "output_type": "stream",
          "name": "stdout",
          "text": [
            "крот\n",
            "белка\n",
            "выхухоль\n"
          ]
        },
        {
          "output_type": "execute_result",
          "data": {
            "text/plain": [
              "4"
            ]
          },
          "metadata": {},
          "execution_count": 124
        }
      ]
    },
    {
      "cell_type": "code",
      "source": [],
      "metadata": {
        "id": "gDBjbpfxoTFO"
      },
      "execution_count": null,
      "outputs": []
    }
  ]
}